{
  "nbformat": 4,
  "nbformat_minor": 0,
  "metadata": {
    "kernelspec": {
      "display_name": "Python 3",
      "language": "python",
      "name": "python3"
    },
    "language_info": {
      "codemirror_mode": {
        "name": "ipython",
        "version": 3
      },
      "file_extension": ".py",
      "mimetype": "text/x-python",
      "name": "python",
      "nbconvert_exporter": "python",
      "pygments_lexer": "ipython3",
      "version": "3.7.2"
    },
    "colab": {
      "name": "lab_1_interest_functions.ipynb",
      "provenance": [],
      "include_colab_link": true
    }
  },
  "cells": [
    {
      "cell_type": "markdown",
      "metadata": {
        "id": "view-in-github",
        "colab_type": "text"
      },
      "source": [
        "<a href=\"https://colab.research.google.com/github/Rebekah-Nagel-mscst/lab1_interest_functions/blob/master/lab_1_interest_functions.ipynb\" target=\"_parent\"><img src=\"https://colab.research.google.com/assets/colab-badge.svg\" alt=\"Open In Colab\"/></a>"
      ]
    },
    {
      "cell_type": "markdown",
      "metadata": {
        "id": "y2bCblECvC0z",
        "colab_type": "text"
      },
      "source": [
        "## Lab 1 - Compound Interest Functions\n",
        "\n",
        "Below you will find a table of important formulae related to compound interest.  \n",
        "\n",
        "<img src=\"https://www.dummies.com/wp-content/uploads/251689.image0.jpg\" alt=\"image0.jpg\" width=\"400\" height=\"319\">\n",
        "\n",
        "In this lab, you will create functions for each of these using (and documenting) the following workflow.\n",
        "\n",
        "1. Work out the correct answer for a few examples. *Hint* Search for e.g. \"worked out compound interest examples\" on the web.\n",
        "2. Write a `lambda` function and test this function on your test cases.\n",
        "3. Convert the `lambda` function to a `def` statement with an informative doc string that follows the [Google formating rules](https://google.github.io/styleguide/pyguide.html#383-functions-and-methods).\n",
        "4. Write an automated test function (using your previous examples) that will test your `def` statement function each time the code is executed."
      ]
    },
    {
      "cell_type": "markdown",
      "metadata": {
        "id": "ESeOeIonvC02",
        "colab_type": "text"
      },
      "source": [
        "#### Problem 1 -- Apply the process to create a simple interest functions."
      ]
    },
    {
      "cell_type": "code",
      "metadata": {
        "id": "MhbxqAGpvC03",
        "colab_type": "code",
        "colab": {}
      },
      "source": [
        "Simple_Interest = lambda Principle, Interest_Rate, Time_Years: Principle*Interest_Rate*Time_Years\n",
        "Simple_Interest (4000, .045, 3)\n",
        "\n",
        "def Simple_Interest(Principle, Interest_Rate, Time_Years):\n",
        "    \"\"\"Multiply Principle, Interest and Time in years to compute simple interest\"\"\"\n",
        "    Output = Principle*Interest_Rate, Time_Years\n",
        "    return Output\n",
        "\n",
        "def test_Simple_Interest():\n",
        "    assert Simple_Interest(2000, .03, 2),1 == 120.0\n",
        "    assert Simple_Interest(1000, .06, 20),1 == 1200.0\n",
        "test_Simple_Interest()"
      ],
      "execution_count": 133,
      "outputs": []
    },
    {
      "cell_type": "markdown",
      "metadata": {
        "id": "z4hCHaApvC1B",
        "colab_type": "text"
      },
      "source": [
        "#### Problem 2 -- Apply the process to create a compound interest functions."
      ]
    },
    {
      "cell_type": "code",
      "metadata": {
        "id": "T3OCJocOvC1B",
        "colab_type": "code",
        "colab": {}
      },
      "source": [
        "Compound_Interest = lambda Principle, Rate, Compound, time: Principle * (1 + Rate/Compound)**(Compound*time)\n",
        "Compound_Interest (3000,.05,4,5)\n",
        "\n",
        "def Compound_Interest(Principle, Rate, Compound, time):\n",
        "    \"\"\"Calculate compound interest for a principle amount of 3,000, rate of .05, and paid quarterly for 5 years\"\"\"\n",
        "    output = Principle * (1 + Rate/Compound)**(Compound*time)\n",
        "    return output\n",
        "\n",
        "def test_Compound_Interest():\n",
        "    assert Compound_Interest(6981.46, .045, 12, 8) == 9999.996537300325\n",
        "    assert Compound_Interest(34567,.023,3,30) == 68735.64476674664\n",
        "test_Compound_Interest()"
      ],
      "execution_count": 127,
      "outputs": []
    },
    {
      "cell_type": "markdown",
      "metadata": {
        "id": "8b8C8qwEvC1H",
        "colab_type": "text"
      },
      "source": [
        "#### Problem 3 -- Apply the process to create a amortized loan payment function."
      ]
    },
    {
      "cell_type": "code",
      "metadata": {
        "id": "XVX3MJp2vC1I",
        "colab_type": "code",
        "colab": {}
      },
      "source": [
        "Amortized_Loan = lambda Loan_amount, Number_Payment, interest: (Loan_amount*interest) / (1 - (1 + interest) ** -Number_Payment)\n",
        "Amortized_Loan (12000, 120, .0044717)\n",
        "\n",
        "def Amortized_Loan(Loan_amount, Number_Payment, interest):\n",
        "    \"\"\"Calculate Amortized loan using loan amount, number of payments, and interest\"\"\"\n",
        "    Output = (Loan_amount*interest) / (1 - (1 + interest) ** -Number_Payment)\n",
        "    return Output\n",
        "\n",
        "def test_Amortized_Loan():\n",
        "    assert Amortized_Loan(16000, 40, .03)== 692.1980462474057\n",
        "    assert Amortized_Loan(35000, 80, .012)== 683.0235919586371\n",
        "test_Amortized_Loan()"
      ],
      "execution_count": 97,
      "outputs": []
    },
    {
      "cell_type": "markdown",
      "metadata": {
        "id": "GBYkzrYUvC1Q",
        "colab_type": "text"
      },
      "source": [
        "#### Problem 4 -- Apply the process to create a remaining balance function"
      ]
    },
    {
      "cell_type": "code",
      "metadata": {
        "id": "rynAgPoDvC1R",
        "colab_type": "code",
        "colab": {}
      },
      "source": [
        "Remaining_Balance = lambda Regular_Payment, Time_Years, Number_Payments, interest: Regular_Payment * ((1-(1+ interest) ** -(Time_Years * Number_Payments)) / interest)\n",
        "Remaining_Balance(1000,10,12,.005)\n",
        "\n",
        "def Amortized_Loan(Regular_Payment, Time_Years, Number_Payments, interest):\n",
        "    \"\"\"Calculate loan balance 10 years from end of loan \"\"\"\n",
        "    Output = Regular_Payment * ((1-(1+ interest) ** -(Time_Years * Number_Payments)) / interest)\n",
        "    return Output\n",
        "\n",
        "def test_Amortized_Loan():\n",
        "    assert Amortized_Loan(5000,15,6,.05) == 98761.3087103081\n",
        "    assert Amortized_Loan(400,3,2,.01) == 2318.1905898317323\n",
        "test_Amortized_Loan()"
      ],
      "execution_count": 111,
      "outputs": []
    }
  ]
}